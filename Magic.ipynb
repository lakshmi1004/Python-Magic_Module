{
 "cells": [
  {
   "cell_type": "code",
   "execution_count": null,
   "metadata": {},
   "outputs": [],
   "source": [
    "#Operator Magic Methods \tDescription\n",
    "#__add__(self, other) \tTo get called on add operation using + operator\n",
    "#__sub__(self, other) \tTo get called on subtraction operation using - operator.\n",
    "#__mul__(self, other) \tTo get called on multiplication operation using * operator.\n",
    "#__floordiv__(self, other) \tTo get called on floor division operation using // operator.\n",
    "#__truediv__(self, other) \tTo get called on division operation using / operator.\n",
    "#__mod__(self, other) \tTo get called on modulo operation using % operator.\n",
    "#__pow__(self, other[, modulo]) \tTo get called on calculating the power using ** operator.\n",
    "#__lt__(self, other) \tTo get called on comparison using < operator.\n",
    "#__le__(self, other) \tTo get called on comparison using <= operator.\n",
    "#__eq__(self, other) \tTo get called on comparison using == operator.\n",
    "#__ne__(self, other) \tTo get called on comparison using != operator.\n",
    "#__ge__(self, other) \tTo get called on comparison using >= operator. "
   ]
  }
 ],
 "metadata": {
  "language_info": {
   "name": "python"
  },
  "orig_nbformat": 4
 },
 "nbformat": 4,
 "nbformat_minor": 2
}
